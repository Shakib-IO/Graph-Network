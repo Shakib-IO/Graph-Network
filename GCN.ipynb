{
  "nbformat": 4,
  "nbformat_minor": 0,
  "metadata": {
    "colab": {
      "provenance": []
    },
    "kernelspec": {
      "name": "python3",
      "display_name": "Python 3"
    },
    "language_info": {
      "name": "python"
    }
  },
  "cells": [
    {
      "cell_type": "markdown",
      "source": [
        "This Notebook follow this [blog](https://towardsdatascience.com/understanding-graph-convolutional-networks-for-node-classification-a2bfdb7aba7b)"
      ],
      "metadata": {
        "id": "Q9fEDKLn2kJW"
      }
    },
    {
      "cell_type": "markdown",
      "source": [
        "[NetworkX](https://networkx.org/documentation/networkx-2.3/index.html)"
      ],
      "metadata": {
        "id": "_dvpxve62z_s"
      }
    },
    {
      "cell_type": "markdown",
      "source": [
        "- Let’s start by building a simple undirected graph (G) using NetworkX. The graph G will consist of 6 nodes and the feature of each node will correspond to that particular node number. For example, node 1 will have a node feature of 1, node 2 will have a node feature of 2, and so on. "
      ],
      "metadata": {
        "id": "6sJemUs73H9I"
      }
    },
    {
      "cell_type": "markdown",
      "source": [
        "![image.png](data:image/png;base64,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)"
      ],
      "metadata": {
        "id": "nJvhJkH_S3l2"
      }
    },
    {
      "cell_type": "code",
      "execution_count": 1,
      "metadata": {
        "colab": {
          "base_uri": "https://localhost:8080/",
          "height": 406
        },
        "id": "8lqMUgXm2e7Z",
        "outputId": "f8037223-fdcc-4540-b454-255cff782550"
      },
      "outputs": [
        {
          "output_type": "stream",
          "name": "stdout",
          "text": [
            "\n",
            "Graph Info:\n",
            " Graph named 'G' with 6 nodes and 7 edges\n",
            "\n",
            " Graph Nodes:  [(0, {'name': 0}), (1, {'name': 1}), (2, {'name': 2}), (3, {'name': 3}), (4, {'name': 4}), (5, {'name': 5})]\n"
          ]
        },
        {
          "output_type": "display_data",
          "data": {
            "text/plain": [
              "<Figure size 432x288 with 1 Axes>"
            ],
            "image/png": "[encoded data removed]"
          },
          "metadata": {}
        }
      ],
      "source": [
        "import networkx as nx\n",
        "import numpy as np\n",
        "import matplotlib.pyplot as plt\n",
        "from scipy.linalg import  fractional_matrix_power\n",
        "\n",
        "import warnings\n",
        "warnings.filterwarnings(\"ignore\", category= UserWarning)\n",
        "\n",
        "\n",
        "#Initialize the graph\n",
        "G = nx.Graph(name = \"G\")\n",
        "\n",
        "#Create Nodes\n",
        "#In this example, the graph will consist of 6 nodes.\n",
        "#Each node is assigned node feature which corresponds to the node name\n",
        "for i in range(6):\n",
        "  G.add_node(i, name = i)\n",
        "\n",
        "# Define the edges and the edges to graph\n",
        "edges = [(0,1),(0,2),(1,2),(0,3),(3,4),(3,5),(4,5)]\n",
        "G.add_edges_from(edges)\n",
        "\n",
        "# See graph info\n",
        "print('\\nGraph Info:\\n', nx.info(G))\n",
        "\n",
        "# Insppect the node features\n",
        "print('\\n Graph Nodes: ',G.nodes.data())\n",
        "\n",
        "#Plot the graph\n",
        "nx.draw(G, with_labels = True, font_weight = 'bold')\n",
        "plt.show()\n"
      ]
    },
    {
      "cell_type": "markdown",
      "source": [
        "- The next step is to obtain the Adjacency Matrix (A) and Node Features Matrix (X) from graph G."
      ],
      "metadata": {
        "id": "7yDygA0J-RdB"
      }
    },
    {
      "cell_type": "code",
      "source": [
        "# Get it as a numpy array\n",
        "A = np.array(nx.attr_matrix(G, node_attr='name')[0])\n",
        "X = np.array(nx.attr_matrix(G, node_attr='name')[1])\n",
        "X = np.expand_dims(X, axis =1)\n",
        "\n",
        "print('Shape of A: ', A.shape)\n",
        "print('\\nShape of X: ', X.shape)\n",
        "print('\\nAdjacency Matrix (A):\\n', A)\n",
        "print('\\nNode Features Matrix (X):\\n', X)"
      ],
      "metadata": {
        "colab": {
          "base_uri": "https://localhost:8080/"
        },
        "id": "ds1RSVxk8VLI",
        "outputId": "ab513521-9ba9-4e1c-911d-16e7e0487449"
      },
      "execution_count": 2,
      "outputs": [
        {
          "output_type": "stream",
          "name": "stdout",
          "text": [
            "Shape of A:  (6, 6)\n",
            "\n",
            "Shape of X:  (6, 1)\n",
            "\n",
            "Adjacency Matrix (A):\n",
            " [[0. 1. 1. 1. 0. 0.]\n",
            " [1. 0. 1. 0. 0. 0.]\n",
            " [1. 1. 0. 0. 0. 0.]\n",
            " [1. 0. 0. 0. 1. 1.]\n",
            " [0. 0. 0. 1. 0. 1.]\n",
            " [0. 0. 0. 1. 1. 0.]]\n",
            "\n",
            "Node Features Matrix (X):\n",
            " [[0]\n",
            " [1]\n",
            " [2]\n",
            " [3]\n",
            " [4]\n",
            " [5]]\n"
          ]
        }
      ]
    },
    {
      "cell_type": "markdown",
      "source": [
        "- Now, let’s investigate how by inserting A into the forward pass equation adds to richer feature representation of the model. We are going to perform dot product of A and X. Let’s call the result of this dot product operation as AX in this article."
      ],
      "metadata": {
        "id": "pkdi7kYTIMgf"
      }
    },
    {
      "cell_type": "code",
      "source": [
        "# Dot Product of A and X\n",
        "AX = np.dot(A,X)\n",
        "print(\"dot Product of A and X (AX):\\n\", AX)"
      ],
      "metadata": {
        "colab": {
          "base_uri": "https://localhost:8080/"
        },
        "id": "CPtWA0RxIMRc",
        "outputId": "3870060e-5014-4e68-f86d-fc0c11f13878"
      },
      "execution_count": 3,
      "outputs": [
        {
          "output_type": "stream",
          "name": "stdout",
          "text": [
            "dot Product of A and X (AX):\n",
            " [[6.]\n",
            " [2.]\n",
            " [1.]\n",
            " [9.]\n",
            " [8.]\n",
            " [7.]]\n"
          ]
        }
      ]
    },
    {
      "cell_type": "markdown",
      "source": [
        "- To address this problem, we now add self-loops to each node of A. Adding self-loops is basically a mechanism to connect a node to itself. That being said, all the diagonal elements of Adjacency Matrix A will now become 1 because each node is connected to itself. Let’s call A with self-loops added as A_hat and recalculate AX, which is now the dot product of A_hat and X"
      ],
      "metadata": {
        "id": "mokcrDOqIw4e"
      }
    },
    {
      "cell_type": "code",
      "source": [
        "# Add Self Loops\n",
        "G_self_loops = G.copy()\n",
        "\n",
        "self_loops = []\n",
        "\n",
        "for i in range(G.number_of_nodes()):\n",
        "  self_loops.append((i, i))\n",
        "\n",
        "G_self_loops.add_edges_from(self_loops)\n",
        "\n",
        "# Let's check all the edges of G_self_loops affter adding the self loops\n",
        "print(\"Edges of G with Self-loops:\\n\", G_self_loops.edges)\n",
        "\n",
        "# Get the adjacency Matrix(A) and Node Feature Matrix (X) of added self-lopps graph\n",
        "A_hat = np.array(nx.attr_matrix(G_self_loops, node_attr= 'name')[0])\n",
        "print('Adjacency Matrix of added self-loops G (A_hat):\\n', A_hat)\n",
        "\n",
        "#Calculate the dot product of A_hat and X (AX)\n",
        "AX = np.dot(A_hat, X)\n",
        "print('AX:\\n', AX)"
      ],
      "metadata": {
        "colab": {
          "base_uri": "https://localhost:8080/"
        },
        "id": "J_JeKLm3Ihsk",
        "outputId": "0cd85231-4a47-400f-91aa-77ceb1165f4b"
      },
      "execution_count": 5,
      "outputs": [
        {
          "output_type": "stream",
          "name": "stdout",
          "text": [
            "Edges of G with Self-loops:\n",
            " [(0, 1), (0, 2), (0, 3), (0, 0), (1, 2), (1, 1), (2, 2), (3, 4), (3, 5), (3, 3), (4, 5), (4, 4), (5, 5)]\n",
            "Adjacency Matrix of added self-loops G (A_hat):\n",
            " [[1. 1. 1. 1. 0. 0.]\n",
            " [1. 1. 1. 0. 0. 0.]\n",
            " [1. 1. 1. 0. 0. 0.]\n",
            " [1. 0. 0. 1. 1. 1.]\n",
            " [0. 0. 0. 1. 1. 1.]\n",
            " [0. 0. 0. 1. 1. 1.]]\n",
            "AX:\n",
            " [[ 6.]\n",
            " [ 3.]\n",
            " [ 3.]\n",
            " [12.]\n",
            " [12.]\n",
            " [12.]]\n"
          ]
        }
      ]
    },
    {
      "cell_type": "markdown",
      "source": [
        "- Now, you might recognize another problem. The elements of AX are not normalized. Similar to data pre-processing for any Neural Networks operation, we need to normalize the features to prevent numerical instabilities and vanishing/exploding gradients in order for the model to converge. In GCNs, we normalize our data by calculating the Degree Matrix (D) and performing dot product operation of the inverse of D with AX"
      ],
      "metadata": {
        "id": "bIX8GrGaKzFD"
      }
    },
    {
      "cell_type": "markdown",
      "source": [
        "![image.png](data:image/png;base64,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)"
      ],
      "metadata": {
        "id": "EB7VoRMqK19O"
      }
    },
    {
      "cell_type": "markdown",
      "source": [
        "- the term “degree” refers to the number of edges a node is connected to."
      ],
      "metadata": {
        "id": "xQTNICIVLAnb"
      }
    },
    {
      "cell_type": "code",
      "source": [
        "# Get the Degree Martix of the added self-loops graph\n",
        "Deg_Mat = G_self_loops.degree()\n",
        "print('Degree Matrix of added self-loops G (D): ', Deg_Mat)\n",
        "\n",
        "# Convert the Degree Matrix to a N x N matrix where N is the number of nodes\n",
        "D = np.diag([deg for (n,deg) in list(Deg_Mat)])\n",
        "print('Degree Matrix of added self-loops G as numpy array (D):\\n', D)\n",
        "\n",
        "# Find the Inverse of Degree Matrix (D)\n",
        "D_inv = np.linalg.inv(D)\n",
        "print(\"Inverse of D:\\n\", D_inv)\n",
        "\n",
        "# Dot product of D and AX for normalization\n",
        "DAX = np.dot(D_inv, AX)\n",
        "print(\"DAX:\\n\", DAX)"
      ],
      "metadata": {
        "colab": {
          "base_uri": "https://localhost:8080/"
        },
        "id": "s2Pya5qIKM8g",
        "outputId": "1974e5ef-3921-4f0a-8f81-fd4f0692c8d2"
      },
      "execution_count": 9,
      "outputs": [
        {
          "output_type": "stream",
          "name": "stdout",
          "text": [
            "Degree Matrix of added self-loops G (D):  [(0, 5), (1, 4), (2, 4), (3, 5), (4, 4), (5, 4)]\n",
            "Degree Matrix of added self-loops G as numpy array (D):\n",
            " [[5 0 0 0 0 0]\n",
            " [0 4 0 0 0 0]\n",
            " [0 0 4 0 0 0]\n",
            " [0 0 0 5 0 0]\n",
            " [0 0 0 0 4 0]\n",
            " [0 0 0 0 0 4]]\n",
            "Inverse of D:\n",
            " [[0.2  0.   0.   0.   0.   0.  ]\n",
            " [0.   0.25 0.   0.   0.   0.  ]\n",
            " [0.   0.   0.25 0.   0.   0.  ]\n",
            " [0.   0.   0.   0.2  0.   0.  ]\n",
            " [0.   0.   0.   0.   0.25 0.  ]\n",
            " [0.   0.   0.   0.   0.   0.25]]\n",
            "DAX:\n",
            " [[1.2 ]\n",
            " [0.75]\n",
            " [0.75]\n",
            " [2.4 ]\n",
            " [3.  ]\n",
            " [3.  ]]\n"
          ]
        }
      ]
    },
    {
      "cell_type": "markdown",
      "source": [
        "- Let’s take a look back at our graph. Node 3 has 3 incident edges, while nodes 4 and 5 only have 2 incident edges. The fact that node 3 has a higher degree than node 4 and 5 leads to a lower weighting of node 3’s features in DAX. In other words, the lower the degree of a node, the stronger that a node belongs to a certain group or cluster."
      ],
      "metadata": {
        "id": "DtqAk33jPX2s"
      }
    },
    {
      "cell_type": "markdown",
      "source": [
        "##### symmetric normalization"
      ],
      "metadata": {
        "id": "EH0PPW3SPcNr"
      }
    },
    {
      "cell_type": "markdown",
      "source": [
        "![image.png](data:image/png;base64,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)"
      ],
      "metadata": {
        "id": "Rhm252IAPgUT"
      }
    },
    {
      "cell_type": "code",
      "source": [
        "# Calculate the Normalized values using new symmetric normalization equation\n",
        "D_half_norm = fractional_matrix_power(D, -0.5)\n",
        "DADX = D_half_norm.dot(A_hat).dot(D_half_norm).dot(X)\n",
        "print('DADX:\\n', DADX) "
      ],
      "metadata": {
        "colab": {
          "base_uri": "https://localhost:8080/"
        },
        "id": "aach1qVqLpYx",
        "outputId": "3e76ade9-0945-4d23-8ceb-f4fb8ab92d45"
      },
      "execution_count": 10,
      "outputs": [
        {
          "output_type": "stream",
          "name": "stdout",
          "text": [
            "DADX:\n",
            " [[1.27082039]\n",
            " [0.75      ]\n",
            " [0.75      ]\n",
            " [2.61246118]\n",
            " [2.92082039]\n",
            " [2.92082039]]\n"
          ]
        }
      ]
    },
    {
      "cell_type": "markdown",
      "source": [
        "- We are going to build a 2-layer GCN using ReLu as the activation function.  In this experiment, we are going to set 4 neurons for the hidden layer. As we will be plotting the feature representations in 2 dimensions, there will be 2 output neurons."
      ],
      "metadata": {
        "id": "ESvbTSmVQmg0"
      }
    },
    {
      "cell_type": "markdown",
      "source": [
        "![image.png](data:image/png;base64,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)"
      ],
      "metadata": {
        "id": "WSudr-q5TCbk"
      }
    },
    {
      "cell_type": "code",
      "source": [
        "# Initial the weights\n",
        "np.random.seed(77777)\n",
        "n_h = 4 # Number of Neurons in the hidden layer\n",
        "n_y = 2 # Number of Output layer\n",
        "\n",
        "W0 = np.random.randn(X.shape[1], n_h) *0.01\n",
        "W1 = np.random.randn(n_h, n_y) *0.01\n",
        "\n",
        "# Use Relu\n",
        "def relu(x):\n",
        "  return np.maximum(0,x)\n",
        "\n",
        "#Build GCN layer\n",
        "def gcn(A, H, W):\n",
        "  I = np.identity(A.shape[0]) #create Identity Matrix of A\n",
        "  A_hat = A + I # add a self Loop\n",
        "  D = np.diag(np.sum(A_hat, axis = 0)) # Create Degree Matrix of A\n",
        "  D_half_norm = fractional_matrix_power(D,  -0.5) # Calcuate d to the power of -0.5\n",
        "  eq = D_half_norm.dot(A_hat).dot(D_half_norm).dot(H).dot(W)\n",
        "  return relu(eq)\n",
        "\n",
        "# Do forward propagation\n",
        "H1 = gcn(A,X,W0)\n",
        "H2 = gcn(A, H1,W1)\n",
        "print('Features Representation from GCN output:\\n', H2)"
      ],
      "metadata": {
        "colab": {
          "base_uri": "https://localhost:8080/"
        },
        "id": "om7DXhzPQZFp",
        "outputId": "0a15391c-360d-4b91-adfd-b9779ff85828"
      },
      "execution_count": 14,
      "outputs": [
        {
          "output_type": "stream",
          "name": "stdout",
          "text": [
            "Features Representation from GCN output:\n",
            " [[0.00027758 0.        ]\n",
            " [0.00017298 0.        ]\n",
            " [0.00017298 0.        ]\n",
            " [0.00053017 0.        ]\n",
            " [0.00054097 0.        ]\n",
            " [0.00054097 0.        ]]\n"
          ]
        }
      ]
    },
    {
      "cell_type": "markdown",
      "source": [
        "##### Key Takeways \n",
        "- The term ‘convolution’ in Graph Convolutional Networks is similar to Convolutional Neural Networks in terms of weight sharing"
      ],
      "metadata": {
        "id": "S8GM_7HgTnmd"
      }
    },
    {
      "cell_type": "code",
      "source": [],
      "metadata": {
        "id": "qoNAmgtnTquG"
      },
      "execution_count": null,
      "outputs": []
    }
  ]
}