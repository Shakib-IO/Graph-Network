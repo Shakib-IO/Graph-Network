{
  "nbformat": 4,
  "nbformat_minor": 0,
  "metadata": {
    "colab": {
      "provenance": [],
      "authorship_tag": "ABX9TyOLKrwAm3Bg/zPAoaWEF3Y3",
      "include_colab_link": true
    },
    "kernelspec": {
      "name": "python3",
      "display_name": "Python 3"
    },
    "language_info": {
      "name": "python"
    }
  },
  "cells": [
    {
      "cell_type": "markdown",
      "metadata": {
        "id": "view-in-github",
        "colab_type": "text"
      },
      "source": [
        "<a href=\"https://colab.research.google.com/github/Shakib-IO/Graph-Network/blob/main/PyG_Message_Passing.ipynb\" target=\"_parent\"><img src=\"https://colab.research.google.com/assets/colab-badge.svg\" alt=\"Open In Colab\"/></a>"
      ]
    },
    {
      "cell_type": "code",
      "execution_count": null,
      "metadata": {
        "id": "mqPco7skE0fZ"
      },
      "outputs": [],
      "source": [
        "!pip install torch_geometric"
      ]
    },
    {
      "cell_type": "code",
      "source": [
        "from torch_geometric.datasets import Planetoid\n",
        "dataset = Planetoid(root='/tmp/Cora', name='Cora')\n",
        "dataset[0]"
      ],
      "metadata": {
        "colab": {
          "base_uri": "https://localhost:8080/"
        },
        "id": "2-OQ4of3E48Y",
        "outputId": "197c43da-8626-48e1-8b84-2cf66688d3c9"
      },
      "execution_count": 3,
      "outputs": [
        {
          "output_type": "execute_result",
          "data": {
            "text/plain": [
              "Data(x=[2708, 1433], edge_index=[2, 10556], y=[2708], train_mask=[2708], val_mask=[2708], test_mask=[2708])"
            ]
          },
          "metadata": {},
          "execution_count": 3
        }
      ]
    },
    {
      "cell_type": "markdown",
      "source": [
        "![Screenshot 2024-08-08 at 6.21.44 PM.png](data:image/png;base64,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)"
      ],
      "metadata": {
        "id": "VOln3vvKFYdG"
      }
    },
    {
      "cell_type": "markdown",
      "source": [
        "where neighboring node features are first transformed by a weight matrix\n",
        ", normalized by their degree, and finally summed up. Lastly, we apply the bias vector\n",
        " to the aggregated output. This formula can be divided into the following steps:\n",
        "\n",
        "1. Add self-loops to the adjacency matrix.\n",
        "2. Linearly transform node feature matrix.\n",
        "3. Compute normalization coefficients.\n",
        "4. Normalize node features in.\n",
        "5. Sum up neighboring node features (\"add\" aggregation).\n",
        "6. Apply a final bias vector.\n",
        "\n"
      ],
      "metadata": {
        "id": "fzp0owzYFwpy"
      }
    },
    {
      "cell_type": "code",
      "source": [
        "import torch\n",
        "from torch.nn import Linear, Parameter\n",
        "from torch_geometric.nn import MessagePassing\n",
        "from torch_geometric.utils import add_self_loops, degree\n",
        "\n",
        "class GCNConv(MessagePassing):\n",
        "    def __init__(self, in_channels, out_channels):\n",
        "        super().__init__(aggr='add')  # \"Add\" aggregation (Step 5).\n",
        "        self.lin = Linear(in_channels, out_channels, bias=False)\n",
        "        self.bias = Parameter(torch.empty(out_channels))\n",
        "\n",
        "        self.reset_parameters()\n",
        "\n",
        "    def reset_parameters(self):\n",
        "        self.lin.reset_parameters()\n",
        "        self.bias.data.zero_()\n",
        "\n",
        "    def forward(self, x, edge_index):\n",
        "        # x has shape [N, in_channels]\n",
        "        # edge_index has shape [2, E]\n",
        "        print(\"Edge\", edge_index.shape)\n",
        "        # Step 1: Add self-loops to the adjacency matrix.\n",
        "        edge_index, _ = add_self_loops(edge_index, num_nodes=x.size(0))\n",
        "        print(\"After adding self loop\", edge_index.shape)\n",
        "\n",
        "        print(\"Before Linear transfomrm\", x.shape)\n",
        "        # Step 2: Linearly transform node feature matrix.\n",
        "        x = self.lin(x)\n",
        "        print(\"After Linear Transform\", x.shape)\n",
        "\n",
        "        # Step 3: Compute normalization.\n",
        "        row, col = edge_index\n",
        "        print(\"Row:\", row.shape)\n",
        "        print(\"Col:\", col.shape)\n",
        "\n",
        "        deg = degree(col, x.size(0), dtype=x.dtype)\n",
        "        print(\"Degree:\", deg.shape)\n",
        "        deg_inv_sqrt = deg.pow(-0.5)\n",
        "        deg_inv_sqrt[deg_inv_sqrt == float('inf')] = 0\n",
        "        norm = deg_inv_sqrt[row] * deg_inv_sqrt[col]\n",
        "\n",
        "        # Step 4-5: Start propagating messages.\n",
        "        out = self.propagate(edge_index, x=x, norm=norm)\n",
        "        print(\"After Propagation\", out.shape)\n",
        "        # Step 6: Apply a final bias vector.\n",
        "        out = out + self.bias\n",
        "        print(\"After Bias\", out.shape)\n",
        "        return out\n",
        "\n",
        "    def message(self, x_j, norm):\n",
        "        # x_j has shape [E, out_channels]\n",
        "\n",
        "        # Step 4: Normalize node features.\n",
        "        return norm.view(-1, 1) * x_j"
      ],
      "metadata": {
        "id": "wjJxco1XFGb6"
      },
      "execution_count": 13,
      "outputs": []
    },
    {
      "cell_type": "code",
      "source": [
        "conv = GCNConv(1433, 32)\n",
        "x = conv(dataset.x, dataset.edge_index)\n",
        "print(\"Shape of X:\", x.shape)"
      ],
      "metadata": {
        "colab": {
          "base_uri": "https://localhost:8080/"
        },
        "id": "zB-Ut6nLFiW-",
        "outputId": "05ca77e7-0592-43ac-c02e-460580ea0f8e"
      },
      "execution_count": 14,
      "outputs": [
        {
          "output_type": "stream",
          "name": "stdout",
          "text": [
            "Edge torch.Size([2, 10556])\n",
            "After adding self loop torch.Size([2, 13264])\n",
            "Before Linear transfomrm torch.Size([2708, 1433])\n",
            "After Linear Transform torch.Size([2708, 32])\n",
            "Row: torch.Size([13264])\n",
            "Col: torch.Size([13264])\n",
            "Degree: torch.Size([2708])\n",
            "After Propagation torch.Size([2708, 32])\n",
            "After Bias torch.Size([2708, 32])\n",
            "Shape of X: torch.Size([2708, 32])\n"
          ]
        }
      ]
    },
    {
      "cell_type": "code",
      "source": [
        "\"\"\"\n",
        "def propagate(\n",
        "        self,\n",
        "        edge_index: Adj,\n",
        "        size: Size = None,\n",
        "        **kwargs: Any,\n",
        "    ) -> Tensor:\n",
        "        The initial call to start propagating messages.\n",
        "\n",
        "        Args:\n",
        "            edge_index (torch.Tensor or SparseTensor): A :class:`torch.Tensor`,\n",
        "                a :class:`torch_sparse.SparseTensor` or a\n",
        "                :class:`torch.sparse.Tensor` that defines the underlying\n",
        "                graph connectivity/message passing flow.\n",
        "                :obj:`edge_index` holds the indices of a general (sparse)\n",
        "                assignment matrix of shape :obj:`[N, M]`.\n",
        "                If :obj:`edge_index` is a :obj:`torch.Tensor`, its :obj:`dtype`\n",
        "                should be :obj:`torch.long` and its shape needs to be defined\n",
        "                as :obj:`[2, num_messages]` where messages from nodes in\n",
        "                :obj:`edge_index[0]` are sent to nodes in :obj:`edge_index[1]`\n",
        "                (in case :obj:`flow=\"source_to_target\"`).\n",
        "                If :obj:`edge_index` is a :class:`torch_sparse.SparseTensor` or\n",
        "                a :class:`torch.sparse.Tensor`, its sparse indices\n",
        "                :obj:`(row, col)` should relate to :obj:`row = edge_index[1]`\n",
        "                and :obj:`col = edge_index[0]`.\n",
        "                The major difference between both formats is that we need to\n",
        "                input the *transposed* sparse adjacency matrix into\n",
        "                :meth:`propagate`.\n",
        "            size ((int, int), optional): The size :obj:`(N, M)` of the\n",
        "                assignment matrix in case :obj:`edge_index` is a\n",
        "                :class:`torch.Tensor`.\n",
        "                If set to :obj:`None`, the size will be automatically inferred\n",
        "                and assumed to be quadratic.\n",
        "                This argument is ignored in case :obj:`edge_index` is a\n",
        "                :class:`torch_sparse.SparseTensor` or\n",
        "                a :class:`torch.sparse.Tensor`. (default: :obj:`None`)\n",
        "            **kwargs: Any additional data which is needed to construct and\n",
        "                aggregate messages, and to update node embeddings.\n",
        "\n",
        "        decomposed_layers = 1 if self.explain else self.decomposed_layers\n",
        "\n",
        "        for hook in self._propagate_forward_pre_hooks.values():\n",
        "            res = hook(self, (edge_index, size, kwargs))\n",
        "            if res is not None:\n",
        "                edge_index, size, kwargs = res\n",
        "\n",
        "        mutable_size = self._check_input(edge_index, size)\n",
        "\n",
        "        # Run \"fused\" message and aggregation (if applicable).\n",
        "        fuse = False\n",
        "        if self.fuse and not self.explain:\n",
        "            if is_sparse(edge_index):\n",
        "                fuse = True\n",
        "            elif (not torch.jit.is_scripting()\n",
        "                  and isinstance(edge_index, EdgeIndex)):\n",
        "                if (self.SUPPORTS_FUSED_EDGE_INDEX\n",
        "                        and edge_index.is_sorted_by_col):\n",
        "                    fuse = True\n",
        "\n",
        "        if fuse:\n",
        "            coll_dict = self._collect(self._fused_user_args, edge_index,\n",
        "                                      mutable_size, kwargs)\n",
        "\n",
        "            msg_aggr_kwargs = self.inspector.collect_param_data(\n",
        "                'message_and_aggregate', coll_dict)\n",
        "            for hook in self._message_and_aggregate_forward_pre_hooks.values():\n",
        "                res = hook(self, (edge_index, msg_aggr_kwargs))\n",
        "                if res is not None:\n",
        "                    edge_index, msg_aggr_kwargs = res\n",
        "            out = self.message_and_aggregate(edge_index, **msg_aggr_kwargs)\n",
        "            for hook in self._message_and_aggregate_forward_hooks.values():\n",
        "                res = hook(self, (edge_index, msg_aggr_kwargs), out)\n",
        "                if res is not None:\n",
        "                    out = res\n",
        "\n",
        "            update_kwargs = self.inspector.collect_param_data(\n",
        "                'update', coll_dict)\n",
        "            out = self.update(out, **update_kwargs)\n",
        "\n",
        "        else:  # Otherwise, run both functions in separation.\n",
        "            if decomposed_layers > 1:\n",
        "                user_args = self._user_args\n",
        "                decomp_args = {a[:-2] for a in user_args if a[-2:] == '_j'}\n",
        "                decomp_kwargs = {\n",
        "                    a: kwargs[a].chunk(decomposed_layers, -1)\n",
        "                    for a in decomp_args\n",
        "                }\n",
        "                decomp_out = []\n",
        "\n",
        "            for i in range(decomposed_layers):\n",
        "                if decomposed_layers > 1:\n",
        "                    for arg in decomp_args:\n",
        "                        kwargs[arg] = decomp_kwargs[arg][i]\n",
        "\n",
        "                coll_dict = self._collect(self._user_args, edge_index,\n",
        "                                          mutable_size, kwargs)\n",
        "\n",
        "                msg_kwargs = self.inspector.collect_param_data(\n",
        "                    'message', coll_dict)\n",
        "                for hook in self._message_forward_pre_hooks.values():\n",
        "                    res = hook(self, (msg_kwargs, ))\n",
        "                    if res is not None:\n",
        "                        msg_kwargs = res[0] if isinstance(res, tuple) else res\n",
        "                out = self.message(**msg_kwargs)\n",
        "                for hook in self._message_forward_hooks.values():\n",
        "                    res = hook(self, (msg_kwargs, ), out)\n",
        "                    if res is not None:\n",
        "                        out = res\n",
        "\n",
        "                if self.explain:\n",
        "                    explain_msg_kwargs = self.inspector.collect_param_data(\n",
        "                        'explain_message', coll_dict)\n",
        "                    out = self.explain_message(out, **explain_msg_kwargs)\n",
        "\n",
        "                aggr_kwargs = self.inspector.collect_param_data(\n",
        "                    'aggregate', coll_dict)\n",
        "                for hook in self._aggregate_forward_pre_hooks.values():\n",
        "                    res = hook(self, (aggr_kwargs, ))\n",
        "                    if res is not None:\n",
        "                        aggr_kwargs = res[0] if isinstance(res, tuple) else res\n",
        "\n",
        "                out = self.aggregate(out, **aggr_kwargs)\n",
        "\n",
        "                for hook in self._aggregate_forward_hooks.values():\n",
        "                    res = hook(self, (aggr_kwargs, ), out)\n",
        "                    if res is not None:\n",
        "                        out = res\n",
        "\n",
        "                update_kwargs = self.inspector.collect_param_data(\n",
        "                    'update', coll_dict)\n",
        "                out = self.update(out, **update_kwargs)\n",
        "\n",
        "                if decomposed_layers > 1:\n",
        "                    decomp_out.append(out)\n",
        "\n",
        "            if decomposed_layers > 1:\n",
        "                out = torch.cat(decomp_out, dim=-1)\n",
        "\n",
        "        for hook in self._propagate_forward_hooks.values():\n",
        "            res = hook(self, (edge_index, mutable_size, kwargs), out)\n",
        "            if res is not None:\n",
        "                out = res\n",
        "\n",
        "        return out\n",
        "\"\"\""
      ],
      "metadata": {
        "id": "sYNN4BW3INdv"
      },
      "execution_count": null,
      "outputs": []
    },
    {
      "cell_type": "code",
      "source": [],
      "metadata": {
        "id": "IE2ZE3_TIXk0"
      },
      "execution_count": null,
      "outputs": []
    }
  ]
}